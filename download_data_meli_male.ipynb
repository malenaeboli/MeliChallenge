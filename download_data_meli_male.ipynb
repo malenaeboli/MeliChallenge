{
 "cells": [
  {
   "cell_type": "markdown",
   "id": "7b9b2c55",
   "metadata": {},
   "source": [
    "# Desafio Mercado libre"
   ]
  },
  {
   "cell_type": "markdown",
   "id": "24b2dd9a",
   "metadata": {},
   "source": [
    "En este notebook se recolectan los datos usando la api de search de mercado libre.\n",
    "\n",
    "\n",
    "* Los calculos se realizaran sobre publicaciones de Argentina usando moneda Argentina.\n",
    "\n",
    "* Se descargaron 1000 productos por categoria\n",
    "    \n",
    "    \n",
    "Output del notebook: df_total_original\n",
    "\n",
    "\n"
   ]
  },
  {
   "cell_type": "code",
   "execution_count": 1,
   "id": "0dc648f3",
   "metadata": {},
   "outputs": [],
   "source": [
    "import numpy as np\n",
    "import pandas as pd\n",
    "import time\n",
    "from time import process_time"
   ]
  },
  {
   "cell_type": "code",
   "execution_count": 2,
   "id": "fd249e90",
   "metadata": {},
   "outputs": [],
   "source": [
    "from functions import request_a_diccionario, generar_df"
   ]
  },
  {
   "cell_type": "markdown",
   "id": "2af30034",
   "metadata": {},
   "source": [
    "Para descargar los datos vamos a obtener 1000 items por categoria y guardarlos en un df.\n",
    "Usamos la API (itemps y busquedas):\n",
    "\n",
    "/sites/ SITE_ID/search?category=$CATEGORY_ID\n",
    "\n",
    "Los valores por defecto son Offset=0 y Limit=50.\n",
    "Vamos a dejar el limite de 50 y cambiando el offset para mostrar 20 paginas\n",
    "\n",
    "Obtener ítems listados en una categoría."
   ]
  },
  {
   "cell_type": "code",
   "execution_count": 3,
   "id": "aca1ec2d",
   "metadata": {},
   "outputs": [],
   "source": [
    "lista_categorias = request_a_diccionario(\"https://api.mercadolibre.com/sites/MLA/categories\")"
   ]
  },
  {
   "cell_type": "code",
   "execution_count": 4,
   "id": "c587d5a7",
   "metadata": {},
   "outputs": [
    {
     "name": "stdout",
     "output_type": "stream",
     "text": [
      "Recolectando data de la categoría: 0 de 32 (categoría Accesorios para Vehículos ).\n",
      "Recolectando data de la categoría: 1 de 32 (categoría Agro ).\n",
      "Recolectando data de la categoría: 2 de 32 (categoría Alimentos y Bebidas ).\n",
      "Recolectando data de la categoría: 3 de 32 (categoría Animales y Mascotas ).\n",
      "Recolectando data de la categoría: 4 de 32 (categoría Antigüedades y Colecciones ).\n",
      "Recolectando data de la categoría: 5 de 32 (categoría Arte, Librería y Mercería ).\n",
      "Recolectando data de la categoría: 6 de 32 (categoría Autos, Motos y Otros ).\n",
      "Recolectando data de la categoría: 7 de 32 (categoría Bebés ).\n",
      "Recolectando data de la categoría: 8 de 32 (categoría Belleza y Cuidado Personal ).\n",
      "Recolectando data de la categoría: 9 de 32 (categoría Cámaras y Accesorios ).\n",
      "Recolectando data de la categoría: 10 de 32 (categoría Celulares y Teléfonos ).\n",
      "Recolectando data de la categoría: 11 de 32 (categoría Computación ).\n",
      "Recolectando data de la categoría: 12 de 32 (categoría Consolas y Videojuegos ).\n",
      "Recolectando data de la categoría: 13 de 32 (categoría Construcción ).\n",
      "Recolectando data de la categoría: 14 de 32 (categoría Deportes y Fitness ).\n",
      "Recolectando data de la categoría: 15 de 32 (categoría Electrodomésticos y Aires Ac. ).\n",
      "Recolectando data de la categoría: 16 de 32 (categoría Electrónica, Audio y Video ).\n",
      "Recolectando data de la categoría: 17 de 32 (categoría Entradas para Eventos ).\n",
      "Recolectando data de la categoría: 18 de 32 (categoría Herramientas ).\n",
      "Recolectando data de la categoría: 19 de 32 (categoría Hogar, Muebles y Jardín ).\n",
      "Recolectando data de la categoría: 20 de 32 (categoría Industrias y Oficinas ).\n",
      "Recolectando data de la categoría: 21 de 32 (categoría Inmuebles ).\n",
      "Recolectando data de la categoría: 22 de 32 (categoría Instrumentos Musicales ).\n",
      "Recolectando data de la categoría: 23 de 32 (categoría Joyas y Relojes ).\n",
      "Recolectando data de la categoría: 24 de 32 (categoría Juegos y Juguetes ).\n",
      "Recolectando data de la categoría: 25 de 32 (categoría Libros, Revistas y Comics ).\n",
      "Recolectando data de la categoría: 26 de 32 (categoría Música, Películas y Series ).\n",
      "Recolectando data de la categoría: 27 de 32 (categoría Ropa y Accesorios ).\n",
      "Recolectando data de la categoría: 28 de 32 (categoría Salud y Equipamiento Médico ).\n",
      "Recolectando data de la categoría: 29 de 32 (categoría Servicios ).\n",
      "Recolectando data de la categoría: 30 de 32 (categoría Souvenirs, Cotillón y Fiestas ).\n",
      "Recolectando data de la categoría: 31 de 32 (categoría Otras categorías ).\n",
      "tiempo total de ejecucion: 12.3  minutos.\n"
     ]
    }
   ],
   "source": [
    "paginas_cant=20\n",
    "limite=50\n",
    "t_inicial=time.perf_counter()\n",
    "lista_dfs=[]\n",
    "for numero_categoria,categoria in enumerate(lista_categorias):\n",
    "    print(\"Recolectando data de la categoría:\", str(numero_categoria), \"de\", len(lista_categorias), \"(categoría\", categoria[\"name\"], \").\")\n",
    "    for pagina in range(paginas_cant):\n",
    "        print(\"Página:\" + str(pagina) + \" de 19.\", end='\\r', flush=True)\n",
    "        categoria_id=categoria[\"id\"]\n",
    "        categoria_name=categoria[\"name\"]\n",
    "        offset=str(limite*pagina+1)\n",
    "        items=request_a_diccionario(\"https://api.mercadolibre.com/sites/MLA/search?category=\" + categoria_id + \"&limit=50&offset=\" + offset)\n",
    "        df=generar_df(items)\n",
    "        df[\"categoria_principal\"]=categoria_name\n",
    "        lista_dfs.append(df)\n",
    "elapsed_time=time.perf_counter()-t_inicial\n",
    "print(\"tiempo total de ejecucion:\",round(elapsed_time/60,1),\" minutos.\")\n",
    "\n"
   ]
  },
  {
   "cell_type": "markdown",
   "id": "3252cd1a",
   "metadata": {},
   "source": [
    "hasta ahora hay una lista de dataframes cada elemento un df con los items de una pagina (en las 20 primeras paginas)\n",
    "vamos a concatenar todo en un solo df"
   ]
  },
  {
   "cell_type": "code",
   "execution_count": 5,
   "id": "d026b873",
   "metadata": {},
   "outputs": [],
   "source": [
    "df_total_original=pd.concat(lista_dfs,axis=0)"
   ]
  },
  {
   "cell_type": "code",
   "execution_count": 6,
   "id": "d4a2fc58",
   "metadata": {},
   "outputs": [
    {
     "data": {
      "text/plain": [
       "31970"
      ]
     },
     "execution_count": 6,
     "metadata": {},
     "output_type": "execute_result"
    }
   ],
   "source": [
    "len(df_total_original)"
   ]
  },
  {
   "cell_type": "code",
   "execution_count": 7,
   "id": "1aad7c1a",
   "metadata": {},
   "outputs": [
    {
     "data": {
      "text/plain": [
       "32"
      ]
     },
     "execution_count": 7,
     "metadata": {},
     "output_type": "execute_result"
    }
   ],
   "source": [
    "len(lista_categorias)"
   ]
  },
  {
   "cell_type": "markdown",
   "id": "03cc8375",
   "metadata": {},
   "source": [
    "El tamaño del df esta ok. \n",
    "\n",
    "El limite= 50 resultados por pagina en 20 paginas = cantidad de resultados por categorias"
   ]
  },
  {
   "cell_type": "code",
   "execution_count": 8,
   "id": "e39a426f",
   "metadata": {},
   "outputs": [
    {
     "data": {
      "text/html": [
       "<div>\n",
       "<style scoped>\n",
       "    .dataframe tbody tr th:only-of-type {\n",
       "        vertical-align: middle;\n",
       "    }\n",
       "\n",
       "    .dataframe tbody tr th {\n",
       "        vertical-align: top;\n",
       "    }\n",
       "\n",
       "    .dataframe thead th {\n",
       "        text-align: right;\n",
       "    }\n",
       "</style>\n",
       "<table border=\"1\" class=\"dataframe\">\n",
       "  <thead>\n",
       "    <tr style=\"text-align: right;\">\n",
       "      <th></th>\n",
       "      <th>id</th>\n",
       "      <th>site_id</th>\n",
       "      <th>title</th>\n",
       "      <th>price</th>\n",
       "      <th>currency_id</th>\n",
       "      <th>available_quantity</th>\n",
       "      <th>sold_quantity</th>\n",
       "      <th>buying_mode</th>\n",
       "      <th>listing_type_id</th>\n",
       "      <th>condition</th>\n",
       "      <th>...</th>\n",
       "      <th>address__city_name</th>\n",
       "      <th>shipping__free_shipping</th>\n",
       "      <th>shipping__store_pick_up</th>\n",
       "      <th>original_price</th>\n",
       "      <th>category_id</th>\n",
       "      <th>official_store_id</th>\n",
       "      <th>catalog_product_id</th>\n",
       "      <th>attributes__marca</th>\n",
       "      <th>attributes__modelo</th>\n",
       "      <th>categoria_principal</th>\n",
       "    </tr>\n",
       "  </thead>\n",
       "  <tbody>\n",
       "    <tr>\n",
       "      <th>0</th>\n",
       "      <td>MLA610309020</td>\n",
       "      <td>MLA</td>\n",
       "      <td>Sensor De Estacionamiento * Colores Con Displa...</td>\n",
       "      <td>1729.80</td>\n",
       "      <td>ARS</td>\n",
       "      <td>50</td>\n",
       "      <td>5000</td>\n",
       "      <td>buy_it_now</td>\n",
       "      <td>gold_special</td>\n",
       "      <td>new</td>\n",
       "      <td>...</td>\n",
       "      <td>Liniers</td>\n",
       "      <td>False</td>\n",
       "      <td>False</td>\n",
       "      <td>NaN</td>\n",
       "      <td>MLA45905</td>\n",
       "      <td>NaN</td>\n",
       "      <td>None</td>\n",
       "      <td>Lefer</td>\n",
       "      <td>XD-068</td>\n",
       "      <td>Accesorios para Vehículos</td>\n",
       "    </tr>\n",
       "    <tr>\n",
       "      <th>1</th>\n",
       "      <td>MLA1103800748</td>\n",
       "      <td>MLA</td>\n",
       "      <td>Casco Para Moto Integral Halcon H57  Blanco Ta...</td>\n",
       "      <td>3499.00</td>\n",
       "      <td>ARS</td>\n",
       "      <td>1</td>\n",
       "      <td>47</td>\n",
       "      <td>buy_it_now</td>\n",
       "      <td>gold_special</td>\n",
       "      <td>new</td>\n",
       "      <td>...</td>\n",
       "      <td>Floresta</td>\n",
       "      <td>False</td>\n",
       "      <td>True</td>\n",
       "      <td>NaN</td>\n",
       "      <td>MLA4712</td>\n",
       "      <td>NaN</td>\n",
       "      <td>MLA11386905</td>\n",
       "      <td>Halcon</td>\n",
       "      <td>H57</td>\n",
       "      <td>Accesorios para Vehículos</td>\n",
       "    </tr>\n",
       "    <tr>\n",
       "      <th>2</th>\n",
       "      <td>MLA636709517</td>\n",
       "      <td>MLA</td>\n",
       "      <td>Cubre Alfombra Goma Pesada Universal 3 Piezas ...</td>\n",
       "      <td>2159.99</td>\n",
       "      <td>ARS</td>\n",
       "      <td>50</td>\n",
       "      <td>5000</td>\n",
       "      <td>buy_it_now</td>\n",
       "      <td>gold_special</td>\n",
       "      <td>new</td>\n",
       "      <td>...</td>\n",
       "      <td>Ciudadela</td>\n",
       "      <td>False</td>\n",
       "      <td>False</td>\n",
       "      <td>NaN</td>\n",
       "      <td>MLA2219</td>\n",
       "      <td>NaN</td>\n",
       "      <td>None</td>\n",
       "      <td>At</td>\n",
       "      <td>Cubre alfombra</td>\n",
       "      <td>Accesorios para Vehículos</td>\n",
       "    </tr>\n",
       "    <tr>\n",
       "      <th>3</th>\n",
       "      <td>MLA634474528</td>\n",
       "      <td>MLA</td>\n",
       "      <td>Aceite Motul 8100 X-cess 5w40 X 5 Lts.</td>\n",
       "      <td>7810.00</td>\n",
       "      <td>ARS</td>\n",
       "      <td>1</td>\n",
       "      <td>5000</td>\n",
       "      <td>buy_it_now</td>\n",
       "      <td>gold_special</td>\n",
       "      <td>new</td>\n",
       "      <td>...</td>\n",
       "      <td>Caseros</td>\n",
       "      <td>True</td>\n",
       "      <td>False</td>\n",
       "      <td>NaN</td>\n",
       "      <td>MLA375007</td>\n",
       "      <td>NaN</td>\n",
       "      <td>MLA10427504</td>\n",
       "      <td>Motul</td>\n",
       "      <td>Auto</td>\n",
       "      <td>Accesorios para Vehículos</td>\n",
       "    </tr>\n",
       "    <tr>\n",
       "      <th>4</th>\n",
       "      <td>MLA909004508</td>\n",
       "      <td>MLA</td>\n",
       "      <td>Estéreo Para Auto Electroland Orgt Con Usb, Bl...</td>\n",
       "      <td>3470.11</td>\n",
       "      <td>ARS</td>\n",
       "      <td>79</td>\n",
       "      <td>6020</td>\n",
       "      <td>buy_it_now</td>\n",
       "      <td>gold_special</td>\n",
       "      <td>new</td>\n",
       "      <td>...</td>\n",
       "      <td>Boedo</td>\n",
       "      <td>False</td>\n",
       "      <td>False</td>\n",
       "      <td>3899.0</td>\n",
       "      <td>MLA6867</td>\n",
       "      <td>NaN</td>\n",
       "      <td>MLA16999186</td>\n",
       "      <td>None</td>\n",
       "      <td>None</td>\n",
       "      <td>Accesorios para Vehículos</td>\n",
       "    </tr>\n",
       "  </tbody>\n",
       "</table>\n",
       "<p>5 rows × 22 columns</p>\n",
       "</div>"
      ],
      "text/plain": [
       "              id site_id                                              title  \\\n",
       "0   MLA610309020     MLA  Sensor De Estacionamiento * Colores Con Displa...   \n",
       "1  MLA1103800748     MLA  Casco Para Moto Integral Halcon H57  Blanco Ta...   \n",
       "2   MLA636709517     MLA  Cubre Alfombra Goma Pesada Universal 3 Piezas ...   \n",
       "3   MLA634474528     MLA             Aceite Motul 8100 X-cess 5w40 X 5 Lts.   \n",
       "4   MLA909004508     MLA  Estéreo Para Auto Electroland Orgt Con Usb, Bl...   \n",
       "\n",
       "     price currency_id  available_quantity  sold_quantity buying_mode  \\\n",
       "0  1729.80         ARS                  50           5000  buy_it_now   \n",
       "1  3499.00         ARS                   1             47  buy_it_now   \n",
       "2  2159.99         ARS                  50           5000  buy_it_now   \n",
       "3  7810.00         ARS                   1           5000  buy_it_now   \n",
       "4  3470.11         ARS                  79           6020  buy_it_now   \n",
       "\n",
       "  listing_type_id condition  ...  address__city_name shipping__free_shipping  \\\n",
       "0    gold_special       new  ...             Liniers                   False   \n",
       "1    gold_special       new  ...            Floresta                   False   \n",
       "2    gold_special       new  ...           Ciudadela                   False   \n",
       "3    gold_special       new  ...             Caseros                    True   \n",
       "4    gold_special       new  ...               Boedo                   False   \n",
       "\n",
       "  shipping__store_pick_up  original_price  category_id official_store_id  \\\n",
       "0                   False             NaN     MLA45905               NaN   \n",
       "1                    True             NaN      MLA4712               NaN   \n",
       "2                   False             NaN      MLA2219               NaN   \n",
       "3                   False             NaN    MLA375007               NaN   \n",
       "4                   False          3899.0      MLA6867               NaN   \n",
       "\n",
       "  catalog_product_id attributes__marca attributes__modelo  \\\n",
       "0               None             Lefer             XD-068   \n",
       "1        MLA11386905            Halcon                H57   \n",
       "2               None                At     Cubre alfombra   \n",
       "3        MLA10427504             Motul               Auto   \n",
       "4        MLA16999186              None               None   \n",
       "\n",
       "         categoria_principal  \n",
       "0  Accesorios para Vehículos  \n",
       "1  Accesorios para Vehículos  \n",
       "2  Accesorios para Vehículos  \n",
       "3  Accesorios para Vehículos  \n",
       "4  Accesorios para Vehículos  \n",
       "\n",
       "[5 rows x 22 columns]"
      ]
     },
     "execution_count": 8,
     "metadata": {},
     "output_type": "execute_result"
    }
   ],
   "source": [
    "df_total_original.head()"
   ]
  },
  {
   "cell_type": "code",
   "execution_count": 9,
   "id": "57f52fc1",
   "metadata": {},
   "outputs": [
    {
     "data": {
      "text/plain": [
       "179"
      ]
     },
     "execution_count": 9,
     "metadata": {},
     "output_type": "execute_result"
    }
   ],
   "source": [
    "#ver cuantos valores duplicados y eliminar \n",
    "df_total_original.duplicated(keep=\"first\").sum()"
   ]
  },
  {
   "cell_type": "code",
   "execution_count": 10,
   "id": "f26574a5",
   "metadata": {},
   "outputs": [],
   "source": [
    "df_total_original=df_total_original[~df_total_original.duplicated(keep=\"first\")]"
   ]
  },
  {
   "cell_type": "code",
   "execution_count": 11,
   "id": "8f17f880",
   "metadata": {},
   "outputs": [
    {
     "data": {
      "text/plain": [
       "31791"
      ]
     },
     "execution_count": 11,
     "metadata": {},
     "output_type": "execute_result"
    }
   ],
   "source": [
    "len(df_total_original)"
   ]
  },
  {
   "cell_type": "code",
   "execution_count": 12,
   "id": "fb981858",
   "metadata": {},
   "outputs": [],
   "source": [
    "df_total_original.to_csv(\"df_total_original.csv\",index=\"False\")"
   ]
  },
  {
   "cell_type": "markdown",
   "id": "f0105c18",
   "metadata": {},
   "source": [
    "finalmente guardamos csv para realizar el analisis"
   ]
  },
  {
   "cell_type": "code",
   "execution_count": null,
   "id": "225f7eb4",
   "metadata": {},
   "outputs": [],
   "source": []
  }
 ],
 "metadata": {
  "kernelspec": {
   "display_name": "Python 3 (ipykernel)",
   "language": "python",
   "name": "python3"
  },
  "language_info": {
   "codemirror_mode": {
    "name": "ipython",
    "version": 3
   },
   "file_extension": ".py",
   "mimetype": "text/x-python",
   "name": "python",
   "nbconvert_exporter": "python",
   "pygments_lexer": "ipython3",
   "version": "3.9.7"
  }
 },
 "nbformat": 4,
 "nbformat_minor": 5
}
